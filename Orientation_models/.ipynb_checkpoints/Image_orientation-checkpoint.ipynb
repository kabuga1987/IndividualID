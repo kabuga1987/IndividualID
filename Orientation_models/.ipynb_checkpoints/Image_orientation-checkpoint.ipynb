{
 "cells": [
  {
   "cell_type": "code",
   "execution_count": 1,
   "id": "4b12f423",
   "metadata": {},
   "outputs": [
    {
     "name": "stderr",
     "output_type": "stream",
     "text": [
      "2022-11-26 14:37:21.394433: I tensorflow/stream_executor/platform/default/dso_loader.cc:53] Successfully opened dynamic library libcudart.so.11.0\n"
     ]
    }
   ],
   "source": [
    "from Image_orientation import*"
   ]
  },
  {
   "cell_type": "code",
   "execution_count": 2,
   "id": "a1a294d1",
   "metadata": {},
   "outputs": [],
   "source": [
    "p1 = \"seal_image_examples/\"\n",
    "p2 = \"seal_image_example_sides.csv\""
   ]
  },
  {
   "cell_type": "code",
   "execution_count": 3,
   "id": "69a0a428",
   "metadata": {},
   "outputs": [],
   "source": [
    "Lr = 1e-4\n",
    "pw = \"orient.h5\"\n",
    "shp = (384,384,1)\n",
    "Epochs = 2\n",
    "out_nodes = 3"
   ]
  },
  {
   "cell_type": "code",
   "execution_count": 4,
   "id": "cf1e8126",
   "metadata": {},
   "outputs": [],
   "source": [
    "dp = DataPreparation(p2,out_nodes)\n",
    "Imgs,Labels = dp.LabEncoding()"
   ]
  },
  {
   "cell_type": "code",
   "execution_count": 5,
   "id": "b4af2b28",
   "metadata": {},
   "outputs": [],
   "source": [
    "TIms,TLabs = Imgs[:2],Labels[:2]\n",
    "VIms,VLabs = Imgs[2:4],Labels[2:4]\n",
    "TeIms,TeLabs = Imgs[4:],Labels[4:]"
   ]
  },
  {
   "cell_type": "code",
   "execution_count": null,
   "id": "ba8ba2aa",
   "metadata": {},
   "outputs": [],
   "source": []
  },
  {
   "cell_type": "code",
   "execution_count": 6,
   "id": "000af3dc",
   "metadata": {},
   "outputs": [
    {
     "name": "stderr",
     "output_type": "stream",
     "text": [
      "100%|██████████| 6/6 [00:00<00:00, 964.21it/s]"
     ]
    },
    {
     "name": "stdout",
     "output_type": "stream",
     "text": [
      "Preprocessing 6 images\n"
     ]
    },
    {
     "name": "stderr",
     "output_type": "stream",
     "text": [
      "\n",
      "2022-11-26 14:37:39.569431: I tensorflow/stream_executor/platform/default/dso_loader.cc:53] Successfully opened dynamic library libcuda.so.1\n",
      "2022-11-26 14:37:40.388494: I tensorflow/core/common_runtime/gpu/gpu_device.cc:1733] Found device 0 with properties: \n",
      "pciBusID: 0000:af:00.0 name: Tesla V100-PCIE-16GB computeCapability: 7.0\n",
      "coreClock: 1.38GHz coreCount: 80 deviceMemorySize: 15.78GiB deviceMemoryBandwidth: 836.37GiB/s\n",
      "2022-11-26 14:37:40.388534: I tensorflow/stream_executor/platform/default/dso_loader.cc:53] Successfully opened dynamic library libcudart.so.11.0\n",
      "2022-11-26 14:37:40.394804: I tensorflow/stream_executor/platform/default/dso_loader.cc:53] Successfully opened dynamic library libcublas.so.11\n",
      "2022-11-26 14:37:40.394856: I tensorflow/stream_executor/platform/default/dso_loader.cc:53] Successfully opened dynamic library libcublasLt.so.11\n",
      "2022-11-26 14:37:40.397194: I tensorflow/stream_executor/platform/default/dso_loader.cc:53] Successfully opened dynamic library libcufft.so.10\n",
      "2022-11-26 14:37:40.397733: I tensorflow/stream_executor/platform/default/dso_loader.cc:53] Successfully opened dynamic library libcurand.so.10\n",
      "2022-11-26 14:37:40.398431: I tensorflow/stream_executor/platform/default/dso_loader.cc:53] Successfully opened dynamic library libcusolver.so.11\n",
      "2022-11-26 14:37:40.399472: I tensorflow/stream_executor/platform/default/dso_loader.cc:53] Successfully opened dynamic library libcusparse.so.11\n",
      "2022-11-26 14:37:40.399810: I tensorflow/stream_executor/platform/default/dso_loader.cc:53] Successfully opened dynamic library libcudnn.so.8\n",
      "2022-11-26 14:37:40.400307: I tensorflow/core/common_runtime/gpu/gpu_device.cc:1871] Adding visible gpu devices: 0\n",
      "2022-11-26 14:37:40.401198: I tensorflow/core/platform/cpu_feature_guard.cc:142] This TensorFlow binary is optimized with oneAPI Deep Neural Network Library (oneDNN) to use the following CPU instructions in performance-critical operations:  AVX2 AVX512F FMA\n",
      "To enable them in other operations, rebuild TensorFlow with the appropriate compiler flags.\n",
      "2022-11-26 14:37:40.409488: I tensorflow/core/common_runtime/gpu/gpu_device.cc:1733] Found device 0 with properties: \n",
      "pciBusID: 0000:af:00.0 name: Tesla V100-PCIE-16GB computeCapability: 7.0\n",
      "coreClock: 1.38GHz coreCount: 80 deviceMemorySize: 15.78GiB deviceMemoryBandwidth: 836.37GiB/s\n",
      "2022-11-26 14:37:40.409841: I tensorflow/core/common_runtime/gpu/gpu_device.cc:1871] Adding visible gpu devices: 0\n",
      "2022-11-26 14:37:40.409872: I tensorflow/stream_executor/platform/default/dso_loader.cc:53] Successfully opened dynamic library libcudart.so.11.0\n",
      "2022-11-26 14:37:40.935231: I tensorflow/core/common_runtime/gpu/gpu_device.cc:1258] Device interconnect StreamExecutor with strength 1 edge matrix:\n",
      "2022-11-26 14:37:40.935259: I tensorflow/core/common_runtime/gpu/gpu_device.cc:1264]      0 \n",
      "2022-11-26 14:37:40.935265: I tensorflow/core/common_runtime/gpu/gpu_device.cc:1277] 0:   N \n",
      "2022-11-26 14:37:40.936135: I tensorflow/core/common_runtime/gpu/gpu_device.cc:1418] Created TensorFlow device (/job:localhost/replica:0/task:0/device:GPU:0 with 14645 MB memory) -> physical GPU (device: 0, name: Tesla V100-PCIE-16GB, pci bus id: 0000:af:00.0, compute capability: 7.0)\n"
     ]
    },
    {
     "name": "stdout",
     "output_type": "stream",
     "text": [
      "\n",
      "==================================================\n",
      "\n",
      "Training model has started\n",
      "\n",
      "\n",
      "++++++++++++++++++++++++++++++++++++++++++++++++++\n",
      "\n",
      "Training images =  2\n",
      "Validation images =  2\n",
      "Test images =  2\n",
      "Number of epochs =  2\n",
      "Learning rate =  0.0001\n",
      "\n",
      "++++++++++++++++++++++++++++++++++++++++++++++++++\n",
      "Epoch 1/2\n"
     ]
    },
    {
     "name": "stderr",
     "output_type": "stream",
     "text": [
      "2022-11-26 14:37:41.875292: I tensorflow/compiler/mlir/mlir_graph_optimization_pass.cc:176] None of the MLIR Optimization Passes are enabled (registered 2)\n",
      "2022-11-26 14:37:41.875829: I tensorflow/core/platform/profile_utils/cpu_utils.cc:114] CPU Frequency: 2700000000 Hz\n",
      "2022-11-26 14:37:46.856199: I tensorflow/stream_executor/platform/default/dso_loader.cc:53] Successfully opened dynamic library libcudnn.so.8\n",
      "2022-11-26 14:37:47.309458: I tensorflow/stream_executor/cuda/cuda_dnn.cc:359] Loaded cuDNN version 8202\n",
      "2022-11-26 14:37:47.873436: I tensorflow/stream_executor/platform/default/dso_loader.cc:53] Successfully opened dynamic library libcublas.so.11\n",
      "2022-11-26 14:37:48.264828: I tensorflow/stream_executor/platform/default/dso_loader.cc:53] Successfully opened dynamic library libcublasLt.so.11\n"
     ]
    },
    {
     "name": "stdout",
     "output_type": "stream",
     "text": [
      "1/1 [==============================] - 8s 8s/step - loss: 4.4512 - accuracy: 0.0000e+00 - val_loss: 1.1028 - val_accuracy: 0.5000\n",
      "Epoch 2/2\n",
      "1/1 [==============================] - 0s 201ms/step - loss: 4.2719 - accuracy: 0.0000e+00 - val_loss: 1.1000 - val_accuracy: 0.0000e+00\n",
      "\n",
      "++++++++++++++++++++++++++++++++++++++++++++++++++\n",
      "\n",
      "Val loss, Val accuracy =  [1.0999770164489746, 0.0]\n",
      "\n",
      "\n",
      "+++++++++++++++++++++++++++++++++++++\n",
      "\n",
      "\n",
      "Test loss, test accuracy =  [1.0987539291381836, 0.5]\n",
      "\n",
      "\n",
      "+++++++++++++++++++++++++++++++++++++\n",
      "\n",
      "\n",
      "Training has finished\n",
      "\n",
      "\n"
     ]
    }
   ],
   "source": [
    "ModelTraining(TIms,TLabs,VIms,VLabs,TeIms,TeLabs,p1,Lr,pw,shp,Epochs,out_nodes)\n",
    " "
   ]
  },
  {
   "cell_type": "code",
   "execution_count": 7,
   "id": "c5325421",
   "metadata": {},
   "outputs": [
    {
     "data": {
      "text/plain": [
       "array([[0., 0., 1.],\n",
       "       [1., 0., 0.]], dtype=float32)"
      ]
     },
     "execution_count": 7,
     "metadata": {},
     "output_type": "execute_result"
    }
   ],
   "source": [
    "TLabs"
   ]
  },
  {
   "cell_type": "code",
   "execution_count": null,
   "id": "00223d30",
   "metadata": {},
   "outputs": [],
   "source": []
  }
 ],
 "metadata": {
  "kernelspec": {
   "display_name": "Python 3 (ipykernel)",
   "language": "python",
   "name": "python3"
  },
  "language_info": {
   "codemirror_mode": {
    "name": "ipython",
    "version": 3
   },
   "file_extension": ".py",
   "mimetype": "text/x-python",
   "name": "python",
   "nbconvert_exporter": "python",
   "pygments_lexer": "ipython3",
   "version": "3.9.4"
  }
 },
 "nbformat": 4,
 "nbformat_minor": 5
}
